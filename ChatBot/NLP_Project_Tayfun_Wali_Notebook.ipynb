{
  "cells": [
    {
      "cell_type": "code",
      "execution_count": null,
      "metadata": {
        "id": "AdekyToMnDX6"
      },
      "outputs": [],
      "source": []
    },
    {
      "cell_type": "code",
      "execution_count": null,
      "metadata": {
        "id": "KP8rvelHuIla"
      },
      "outputs": [],
      "source": [
        "import numpy as np\n",
        "from numpy.linalg import norm\n",
        "import pandas as pd\n",
        "import matplotlib.pyplot as plt\n",
        "import seaborn as sns\n",
        "import re\n",
        "import os"
      ]
    },
    {
      "cell_type": "code",
      "execution_count": null,
      "metadata": {
        "id": "V62RE6tTtnNv"
      },
      "outputs": [],
      "source": [
        "import tensorflow as tf\n",
        "import tensorflow_hub as hub\n",
        "\n",
        "from tensorflow import keras\n",
        "import tensorflow_datasets as tfds"
      ]
    },
    {
      "cell_type": "code",
      "execution_count": null,
      "metadata": {
        "id": "FlOdfPDDB-DN"
      },
      "outputs": [],
      "source": [
        "module_url=\"https://tfhub.dev/google/universal-sentence-encoder/4\""
      ]
    },
    {
      "cell_type": "code",
      "execution_count": null,
      "metadata": {
        "id": "5PUwzJ4fB-nG"
      },
      "outputs": [],
      "source": [
        "embedder=hub.load(module_url)"
      ]
    },
    {
      "cell_type": "code",
      "execution_count": null,
      "metadata": {
        "id": "X_BoynMK22_t"
      },
      "outputs": [],
      "source": []
    },
    {
      "cell_type": "code",
      "execution_count": null,
      "metadata": {
        "id": "xWPnIfPezGmv"
      },
      "outputs": [],
      "source": [
        "def cos_sim(a,b):\n",
        "  return np.inner(a,b)/(norm(a)*norm(b))"
      ]
    },
    {
      "cell_type": "code",
      "execution_count": null,
      "metadata": {
        "id": "EbLLzopAGiZ8"
      },
      "outputs": [],
      "source": [
        "# accepts answers without brackets\n",
        "def embed(sentence):\n",
        "  sentence_in=[sentence]\n",
        "  \n",
        "  return embedder(sentence_in)"
      ]
    },
    {
      "cell_type": "code",
      "execution_count": null,
      "metadata": {
        "id": "teX_Yqzkz7sp"
      },
      "outputs": [],
      "source": [
        "\n"
      ]
    },
    {
      "cell_type": "code",
      "execution_count": null,
      "metadata": {
        "id": "9tqA_wn2GjcA"
      },
      "outputs": [],
      "source": [
        "def find_mean(X):\n",
        "  vectors=[]\n",
        "  for element in X:\n",
        "    vectors.append(embed(element))\n",
        "\n",
        "  return np.mean(vectors,axis=0)"
      ]
    },
    {
      "cell_type": "code",
      "execution_count": null,
      "metadata": {
        "id": "HnxW3bGqJi8M"
      },
      "outputs": [],
      "source": [
        "def compare(response,targets,thres):\n",
        "  a=embed(response)\n",
        "  b=find_mean(targets)\n",
        "  \n",
        "  #dist=norm(a-b)\n",
        "  return cos_sim(a,b),cos_sim(a,b)>thres\n"
      ]
    },
    {
      "cell_type": "code",
      "source": [
        "group=['How old are you ?','What is your age?', 'When were you born?','What is your date of birth?','When is your birthday?']"
      ],
      "metadata": {
        "id": "8p5_8ScngjrX"
      },
      "execution_count": null,
      "outputs": []
    },
    {
      "cell_type": "code",
      "source": [
        "test='How old are you?'"
      ],
      "metadata": {
        "id": "EJcFFqjwg4xy"
      },
      "execution_count": null,
      "outputs": []
    },
    {
      "cell_type": "code",
      "source": [
        "embed(test).shape"
      ],
      "metadata": {
        "colab": {
          "base_uri": "https://localhost:8080/"
        },
        "id": "1JmYqFAfhiXR",
        "outputId": "0da5b23e-c6d0-46ff-f747-73184db3b0cf"
      },
      "execution_count": null,
      "outputs": [
        {
          "output_type": "execute_result",
          "data": {
            "text/plain": [
              "TensorShape([1, 512])"
            ]
          },
          "metadata": {},
          "execution_count": 49
        }
      ]
    },
    {
      "cell_type": "code",
      "source": [
        "compare(test, group, 0.5)"
      ],
      "metadata": {
        "colab": {
          "base_uri": "https://localhost:8080/"
        },
        "id": "lDMQ2I8wg_P0",
        "outputId": "8e9b86b4-02ec-4bd4-9ca3-2ef0b4765f68"
      },
      "execution_count": null,
      "outputs": [
        {
          "output_type": "execute_result",
          "data": {
            "text/plain": [
              "(array([[0.8083109]], dtype=float32), array([[ True]]))"
            ]
          },
          "metadata": {},
          "execution_count": 45
        }
      ]
    },
    {
      "cell_type": "markdown",
      "metadata": {
        "id": "kNaY9SqWGj8A"
      },
      "source": [
        "## Collecting sample answers for all options"
      ]
    },
    {
      "cell_type": "markdown",
      "metadata": {
        "id": "2t-V2OfunF2a"
      },
      "source": [
        "### Level1 Options"
      ]
    },
    {
      "cell_type": "code",
      "execution_count": null,
      "metadata": {
        "id": "GdaQ-ztOGokG"
      },
      "outputs": [],
      "source": [
        "# New Customer and Existing Customer"
      ]
    },
    {
      "cell_type": "code",
      "execution_count": null,
      "metadata": {
        "id": "Qts9b2O5GuLL"
      },
      "outputs": [],
      "source": [
        "existing_customer=['Yes','Yes I am','I have an account with you','yeah',\n",
        "                   'I joined last year','since months ago','I have been a member since',\n",
        "                   'Yes of course','I have a contract with you since', 'I am an existing customer']"
      ]
    },
    {
      "cell_type": "code",
      "execution_count": null,
      "metadata": {
        "id": "0XDhwEJsHC9B"
      },
      "outputs": [],
      "source": [
        "new_customer= ['No', 'I am a new customer', 'I don’t have any account','I want to open an account', 'I want to see your products and services', \n",
        "'I don’t have any contract with you', 'I want to move my sim card to your company', 'I would like to join your company',\n",
        "'I want to know your available packages']"
      ]
    },
    {
      "cell_type": "code",
      "execution_count": null,
      "metadata": {
        "id": "h1xEIgfLVsjc"
      },
      "outputs": [],
      "source": [
        "test=\"I have a contract\""
      ]
    },
    {
      "cell_type": "code",
      "execution_count": null,
      "metadata": {
        "colab": {
          "base_uri": "https://localhost:8080/"
        },
        "id": "7PjVfNmEV3ic",
        "outputId": "16b51538-8613-49c6-913a-ee5de876d452"
      },
      "outputs": [
        {
          "output_type": "execute_result",
          "data": {
            "text/plain": [
              "array([[ True]])"
            ]
          },
          "metadata": {},
          "execution_count": 13
        }
      ],
      "source": [
        "compare(test, existing_customer, 0.5)"
      ]
    },
    {
      "cell_type": "markdown",
      "metadata": {
        "id": "g8ZBFcwr7XHY"
      },
      "source": [
        "### Level 2 Options Branch1"
      ]
    },
    {
      "cell_type": "code",
      "execution_count": null,
      "metadata": {
        "id": "gXPgBEuML8S5"
      },
      "outputs": [],
      "source": [
        "## New Customer"
      ]
    },
    {
      "cell_type": "code",
      "execution_count": null,
      "metadata": {
        "id": "fiRwUDT5KgiM"
      },
      "outputs": [],
      "source": [
        "new_contract=['I want to join','I want to see contract options','how long is the contract?']\n",
        "products_services_info=['what services do you provide','what are your price plans','how much do calls cost?']\n",
        "about_the_company=['tell me more about company','where are you based?','which area do you cover?']\n"
      ]
    },
    {
      "cell_type": "code",
      "execution_count": null,
      "metadata": {
        "id": "-wdxWe0BVYAq"
      },
      "outputs": [],
      "source": []
    },
    {
      "cell_type": "markdown",
      "metadata": {
        "id": "NUkr-MJP7r5b"
      },
      "source": [
        "### Level 2 Options Branch 2"
      ]
    },
    {
      "cell_type": "code",
      "execution_count": null,
      "metadata": {
        "id": "D_VUqi_lMsZJ"
      },
      "outputs": [],
      "source": [
        "# about bill, account and more options"
      ]
    },
    {
      "cell_type": "code",
      "execution_count": null,
      "metadata": {
        "id": "hNwg5dv_obEI"
      },
      "outputs": [],
      "source": [
        "about_bill=['I want to pay my bill','setup direct debit','my bill is too high', 'bill']\n",
        "account=['I want to renew my contract','I would like to unlock my phone','upgrade my phone', 'account']\n",
        "technical_issues=['low signal', 'my phone does not work','connection problem', 'technical issue']\n",
        "more_options=['lost my phone','my phone was stolen','I want to ask about the delivery', 'more options']"
      ]
    },
    {
      "cell_type": "code",
      "execution_count": null,
      "metadata": {
        "id": "3GqTSpNO3Fm1"
      },
      "outputs": [],
      "source": []
    },
    {
      "cell_type": "markdown",
      "metadata": {
        "id": "c-JRmL269xXn"
      },
      "source": [
        "### Level 3 Options - (about the bill, technical, more options)"
      ]
    },
    {
      "cell_type": "code",
      "execution_count": null,
      "metadata": {
        "id": "zjH0bSng-MZv"
      },
      "outputs": [],
      "source": [
        "# about the bill\n",
        "paying_the_bill=['I want to pay my bill', 'Can I pay my bill please', 'paying my bill' ]\n",
        "set_up_direct_debit=['setup direct debit', 'I would like to setup direct debit','I want to pay bill by direct debit each month']\n",
        "high_bill=['why is my bill too high','I got too high bill this month','the bill of this month is too high' ]"
      ]
    },
    {
      "cell_type": "code",
      "execution_count": null,
      "metadata": {
        "id": "COZ_etZa-Mr3"
      },
      "outputs": [],
      "source": [
        "# technical issues\n",
        "about_the_phone=['my phone doesn not work','my phone screen is broken','my phone does not sound loud enough']\n",
        "about_signal=['my internet connection is not very good','my internet connection is very bad. what can I do?','my internet does not work everywhere.' ]"
      ]
    },
    {
      "cell_type": "code",
      "execution_count": null,
      "metadata": {
        "id": "kkhnqAybJz6d"
      },
      "outputs": [],
      "source": [
        "#other options\n",
        "lost=[\"my phone is lost\",\"I can't find my phone. I think it's lost \",\"I lost my phone. can you please help me? \"]\n",
        "stolen=[\"my phone stolen \",\"I can't find my phone since yesterday. probably stolen \",\"my phone was stolen in the cafe today \"]\n",
        "delivery=[\"how many days will my phone arrive\", \"I bought a new phone from you. When will it arrive?\",\"where is my delivery \"]"
      ]
    },
    {
      "cell_type": "markdown",
      "metadata": {
        "id": "QeoH-7nyD8E3"
      },
      "source": [
        "## Level 3 Options (Account)"
      ]
    },
    {
      "cell_type": "code",
      "execution_count": null,
      "metadata": {
        "id": "pwC5-c02NQPU"
      },
      "outputs": [],
      "source": [
        "# account\n",
        "contract=['I would an aditional contract','I would like another contract','I want to cancel my contract']\n",
        "device=['I would like to upgrade my phone','could you help me to setup my phone','I want to move my information in old phone to new phone. How can I do it']\n",
        "ac_more_options=['what are the roaming charges','how many free minutes do I have?','I want to leave the company.']"
      ]
    },
    {
      "cell_type": "code",
      "execution_count": null,
      "metadata": {
        "id": "CKsMpyNpNeSw"
      },
      "outputs": [],
      "source": []
    },
    {
      "cell_type": "markdown",
      "metadata": {
        "id": "svEBlkfAGFoe"
      },
      "source": [
        "### Level 4 Options (contract, device, more options)"
      ]
    },
    {
      "cell_type": "code",
      "execution_count": null,
      "metadata": {
        "id": "GJmyaPMQNnM1"
      },
      "outputs": [],
      "source": [
        "# contract\n",
        "additional_contract=['I want an additional contract','I want a second contract','is there a discount on a second contract']\n",
        "renew_contract=['I want to renew my contract','if I renew my contract, how much discount will I get?','what options do I have for a new contract']\n",
        "cancel_contract=['I want to cancel my contract','the contract is too expensive and I dont need it','I want to end my contract']"
      ]
    },
    {
      "cell_type": "code",
      "execution_count": null,
      "metadata": {
        "id": "kcJQ-gabHuZE"
      },
      "outputs": [],
      "source": [
        "# device\n",
        "device_setting=['could you help me to setup my phone','I want to change my settings','I want to setup my voicemail']\n",
        "upgrade_phone=['I want to get a new phone','how much is it to upgrade?','I want a more recent phone','Can I upgrade my phone?']\n"
      ]
    },
    {
      "cell_type": "code",
      "execution_count": null,
      "metadata": {
        "id": "Hy9ry7TYI2s4"
      },
      "outputs": [],
      "source": [
        "# more options\n",
        "check_allowance=['How many free minutes do I have?','what are my allowances?','how many gigabytes I have remaining']\n",
        "leaving_us=['I want to leave your company','I want to move my number to a different network','I am not happy with this network']\n",
        "additional_charges=['what are cost of calls to premium numbers', 'what are the roaming costs?', 'I want to use my phone abroad']\n",
        "unlock_phone=['my phone is locked', 'I want to unlock my phone', 'could you unlock my phone please']\n"
      ]
    },
    {
      "cell_type": "code",
      "execution_count": null,
      "metadata": {
        "colab": {
          "base_uri": "https://localhost:8080/"
        },
        "id": "WpnYp8HwI2gE",
        "outputId": "ac0327cf-feec-43e8-f56a-1d21b53b3379"
      },
      "outputs": [
        {
          "output_type": "execute_result",
          "data": {
            "text/plain": [
              "array([[ True]])"
            ]
          },
          "metadata": {},
          "execution_count": 32
        }
      ],
      "source": [
        "customer='how many minutes do I have'\n",
        "compare(customer, existing_customer,0.5)"
      ]
    },
    {
      "cell_type": "code",
      "execution_count": null,
      "metadata": {
        "id": "OW7K4iLITp1E"
      },
      "outputs": [],
      "source": [
        "def add():\n",
        "  print('how are you?')\n",
        "#add=['I am fine']"
      ]
    },
    {
      "cell_type": "code",
      "execution_count": null,
      "metadata": {
        "id": "Cqo5sidQTBdl"
      },
      "outputs": [],
      "source": []
    },
    {
      "cell_type": "code",
      "execution_count": null,
      "metadata": {
        "colab": {
          "base_uri": "https://localhost:8080/"
        },
        "id": "NpW99qsjm2Z1",
        "outputId": "36c5ca09-9110-4034-b997-a925e20688f5"
      },
      "outputs": [
        {
          "output_type": "stream",
          "name": "stdout",
          "text": [
            "Welcome to the Three Telecom Company!\n",
            "Thank you for contacting us and we are pleased to help you.\n",
            "I will ask some questions to be able to help you better.\n",
            "Let's start with your name: \n",
            "bilaal\n",
            "Welcome, bilaal.\n",
            "Are you an existing customer?\n",
            "Options: yes/no\n",
            "Nope\n",
            "I do not understand your response. Please rephrase\n",
            "Options: yes/no\n",
            "No, I am not a customer\n",
            "Welcome to Three. I am pleased to help you today.\n",
            "Options:New contract,About Products and Services, About the company\n",
            "I want a new contract\n",
            "Please go to our website and choose one of our deals or call our special number for new customers\n",
            "Thank you for contacting us. Hope to see you again.\n"
          ]
        }
      ],
      "source": [
        "def a_charges():\n",
        "  print('Please visit our website to see a list of additional charges for roaming, extra data bundle etc')\n",
        "  print('Thank you for contacting us. Hope to see you again.')\n",
        "  \n",
        "def unlock():\n",
        "  print('Your request to unlock has been recorded. Your phone will be unlocked within five working days.')\n",
        "  print('Thank you for contacting us. Hope to see you again.')\n",
        "  \n",
        "def leave():\n",
        "  print('We are sorry to see you want to leave. What can we do for you so you can stay')\n",
        "  print('Thank you for contacting us. Hope to see you again.')\n",
        "  \n",
        "def allowance():\n",
        "  print('Please call #3333* on your mobile to see your allowance')\n",
        "  print('Thank you for contacting us. Hope to see you again.')\n",
        "  \n",
        "def upgrade():\n",
        "  print('Please visit our website to see various deals with upgrade')\n",
        "  print('Thank you for contacting us. Hope to see you again.')\n",
        "  \n",
        "def setting():\n",
        "  print('Please call 333 on your phone to receive the default or select the relevant setting to change')\n",
        "  print('Thank you for contacting us. Hope to see you again.')\n",
        "  \n",
        "\n",
        "def cancelC():\n",
        "  print('We are sorry to know that you are not happy with continuing with our contract. Please call our special number 0345 67 87')\n",
        "  print('Thank you for contacting us. Hope to see you again.')\n",
        "def renewC():\n",
        "  print('We are please to know that you can to stay with us. Your contract is renewed')\n",
        "def additionalC():\n",
        "  print('Please visit our website to see various option and buy a new contract from there.')\n",
        "  print('Thank you for contacting us. Hope to see you again.')\n",
        "#11\n",
        "def stolenphone():\n",
        "  print('Please report your stolen phone to the police and send us the crime number')\n",
        "  print('Thank you for contacting us. Hope to see you again.')\n",
        "def lostphone():\n",
        "  print('If you suspect that your lost phone it was stolen, please report it to the police and send us a crime number')\n",
        "  print('Thank you for contacting us. Hope to see you again.')\n",
        "def deliveryQ():\n",
        "  print('Please visit royalmail website and use your tracking number to check the progress of the delivery')\n",
        "  print('Thank you for contacting us. Hope to see you again.')\n",
        "def phoneissue():\n",
        "  print('Please visit our website and book an appointment to bring it to one of our stores or send your device by post')\n",
        "  print('Thank you for contacting us. Hope to see you again.')\n",
        "def signalissue():\n",
        "  print('Please note that our network had a technical issue and our technicians have been working hard to fix it. We will text you as soon as this is sorted.')\n",
        "  print('Thank you for contacting us. Hope to see you again.')\n",
        "def complaint():\n",
        "  print('Please email your complaint to complaints@three.co.uk and send any relevant documents')\n",
        "  print('Thank you for contacting us. Hope to see you again.')\n",
        "\n",
        "def directdebit():\n",
        "  print('Please visit our website and login to your account to setup the direct debit')\n",
        "  \n",
        "def pay():\n",
        "  print('Please visit our website to pay the bill or call 0870 987658 and give your card details')\n",
        "  print('Thank you for contacting us. Hope to see you again.')\n",
        "\n",
        "def newcontract():\n",
        "  print('Please go to our website and choose one of our deals or call our special number for new customers')\n",
        "  print('Thank you for contacting us. Hope to see you again.')\n",
        "def products():\n",
        "  print('Please go to our site to read about all our products and service or visit our branch to get a leaflet')  \n",
        "  print('Thank you for contacting us. Hope to see you again.')  \n",
        "def aboutthecompany():\n",
        "  print('Please visit our website to get all the information you need about our company')\n",
        "  print('Thank you for contacting us. Hope to see you again.')\n",
        "\n",
        "#1\n",
        "def ac_moreoptions():\n",
        "      \n",
        "      print(\"Choose one of the following options so that we can help you.\")\n",
        "      userInput = \"\"\n",
        "      answer1=''\n",
        "      answer2=''\n",
        "      answer3=''\n",
        "      answer4=''\n",
        "      while (answer1 or answer2 or answer3 or answer4)!=True:\n",
        "        print(\"Options:Info about allowance, Leaving us, information about additional charges, Unlock the device\")\n",
        "        userInput = input().lower()\n",
        "        answer1=compare(userInput,check_allowance,0.5)\n",
        "        answer2=compare(userInput, leaving_us, 0.5)\n",
        "        answer3=compare(userInput,additional_charges,0.5)\n",
        "        answer4=compare(userInput,unlock_phone,0.5)\n",
        "        \n",
        "        if answer1 == True:\n",
        "           allowance()\n",
        "        elif answer2 == True:\n",
        "          leave()\n",
        "        elif answer3 == True:\n",
        "          a_charges()\n",
        "        elif answer4 == True:\n",
        "          unlock()\n",
        "        else: \n",
        "          print(\"I do not understand your response. Please rephrase\")\n",
        "\n",
        "\n",
        "#2\n",
        "def deviceoption():\n",
        "  print(\"How can I help you about your device?\")\n",
        "  userInput = \"\"\n",
        "  \n",
        "  answer1=''\n",
        "  answer2=''\n",
        "  \n",
        "  \n",
        "  while (answer1 or answer2 )!=True:\n",
        "    print(\"Options:Settings, Upgrade\")\n",
        "    userInput = input().lower()\n",
        "    answer1=compare(userInput, device_setting,0.5)\n",
        "    answer2=compare(userInput, upgrade_phone,0.5)\n",
        "    \n",
        "    \n",
        "    if answer1 == True:\n",
        "      setting()\n",
        "    elif answer2 == True:\n",
        "      upgrade()\n",
        "    \n",
        "    else: \n",
        "      print(\"What is the issue about\")\n",
        "\n",
        "\n",
        "#3\n",
        "def contractoption():\n",
        "  print(\"How can I help you about your contract?\")\n",
        "  userInput = \"\"\n",
        "  \n",
        "  answer1=''\n",
        "  answer2=''\n",
        "  answer3=''\n",
        "  \n",
        "  while (answer1 or answer2 or answer3)!=True:\n",
        "    print(\"Options:Additional contract, Renew contract, Cancel contract\")\n",
        "    userInput = input().lower()\n",
        "    answer1=compare(userInput,additional_contract,0.5)\n",
        "    answer2=compare(userInput,renew_contract,0.5)\n",
        "    answer3=compare(userInput,cancel_contract ,0.5)\n",
        "    \n",
        "    \n",
        "    if answer1 == True:\n",
        "      additionalC()\n",
        "    elif answer2 == True:\n",
        "      renewC()\n",
        "    elif answer3 == True:\n",
        "      cancelC()\n",
        "    else: \n",
        "      print(\"I do not understand your response. Please rephrase\")\n",
        "\n",
        "#4\n",
        "def technical():\n",
        "  print(\"Welcome to the technical department, how can I help you?\")\n",
        "  userInput = \"\"\n",
        "  \n",
        "  answer1=''\n",
        "  answer2=''\n",
        "  \n",
        "  \n",
        "  while (answer1 or answer2 )!=True:\n",
        "    print(\"Options:about the phone, about signal\")\n",
        "    userInput = input().lower()\n",
        "    answer1=compare(userInput, about_the_phone,0.5)\n",
        "    answer2=compare(userInput, about_signal,0.5)\n",
        "    \n",
        "    \n",
        "    if answer1 == True:\n",
        "      phoneissue()\n",
        "    elif answer2 == True:\n",
        "      signalissue()\n",
        "    \n",
        "    else: \n",
        "      print(\"What is the issue about\")\n",
        "#5\n",
        "def moreoptions():\n",
        "  print(\"Could you please specify your problem\")\n",
        "  userInput = \"\"\n",
        "  \n",
        "  answer1=''\n",
        "  answer2=''\n",
        "  answer3=''\n",
        "  \n",
        "  while (answer1 or answer2 or answer3)!=True:\n",
        "    print(\"Options:Stolen phone, Lost phone, Delivery\")\n",
        "    userInput = input().lower()\n",
        "    answer1=compare(userInput,stolen,0.5)\n",
        "    answer2=compare(userInput,lost,0.5)\n",
        "    answer3=compare(userInput,delivery,0.5)\n",
        "    \n",
        "    \n",
        "    if answer1 == True:\n",
        "      stolenphone()\n",
        "    elif answer2 == True:\n",
        "      lostphone()\n",
        "    elif answer3 == True:\n",
        "      deliveryQ()\n",
        "    else: \n",
        "      print(\"I do not understand your response. Please rephrase\")\n",
        "\n",
        "\n",
        "#6 \n",
        "def bill():\n",
        "  print(\"How can I help you with your bill?\")\n",
        "  userInput = \"\"\n",
        "  \n",
        "  answer1=''\n",
        "  answer2=''\n",
        "  answer3=''\n",
        "  \n",
        "  while (answer1 or answer2 or answer3)!=True:\n",
        "    print(\"Options:pay bill, direct debit setup, high bill\")\n",
        "    userInput = input().lower()\n",
        "    answer1=compare(userInput, paying_the_bill,0.5)\n",
        "    answer2=compare(userInput,set_up_direct_debit,0.5)\n",
        "    answer3=compare(userInput, high_bill,0.5)\n",
        "    \n",
        "    \n",
        "    if answer1 == True:\n",
        "      pay()\n",
        "    elif answer2 == True:\n",
        "      directdebit()\n",
        "    elif answer3 == True:\n",
        "      complaint()\n",
        "    else: \n",
        "      print(\"I do not understand your response. Please rephrase\")\n",
        "\n",
        "\n",
        "#7\n",
        "def accountOption():\n",
        "  print(\"I think you need help about your account. How can I help you?\")\n",
        "  userInput = \"\"\n",
        "  \n",
        "  answer1=''\n",
        "  answer2=''\n",
        "  answer3=''\n",
        "  \n",
        "  while (answer1 or answer2 or answer3)!=True:\n",
        "    print(\"Options:Contract, Device, More Options\")\n",
        "    userInput = input().lower()\n",
        "    answer1=compare(userInput, contract,0.5)\n",
        "    answer2=compare(userInput,device,0.5)\n",
        "    answer3=compare(userInput,ac_more_options ,0.5)\n",
        "    \n",
        "    \n",
        "    if answer1 == True:\n",
        "      contractoption()\n",
        "    elif answer2 == True:\n",
        "      deviceoption()\n",
        "    elif answer3 == True:\n",
        "      ac_moreoptions()\n",
        "    else: \n",
        "      print(\"I do not understand your response. Please rephrase\")\n",
        "\n",
        "#8        \n",
        "def new_customerOptions():\n",
        "      print(\"Welcome to Three. I am pleased to help you today.\")\n",
        "      userInput = \"\"\n",
        "      answer1=''\n",
        "      answer2=''\n",
        "      answer3=''\n",
        "      \n",
        "      while (answer1 or answer2 or answer3)!=True:\n",
        "        print(\"Options:New contract,About Products and Services, About the company\")\n",
        "        userInput = input().lower()\n",
        "        answer1=compare(userInput, new_contract,0.5)\n",
        "        answer2=compare(userInput,products_services_info,0.5)\n",
        "        answer3=compare(userInput,about_the_company ,0.5)\n",
        "        \n",
        "        \n",
        "        if answer1 == True:\n",
        "          newcontract()\n",
        "        elif answer2 == True:\n",
        "          products()\n",
        "        elif answer3 == True:\n",
        "          aboutthecompany()\n",
        "        else: \n",
        "          print(\"I do not understand your response. Please rephrase\")\n",
        "#-------------------------------------------------------------------------------------    \n",
        "#9\n",
        "def exist_customerOptions():\n",
        "      \n",
        "      print(\"Welcome back, how can I help you?\")\n",
        "      userInput = \"\"\n",
        "      answer1=''\n",
        "      answer2=''\n",
        "      answer3=''\n",
        "      answer4=''\n",
        "      while (answer1 or answer2 or answer3 or answer4)!=True:\n",
        "        print(\"Options:Bill, Account, Technical,more options\")\n",
        "        userInput = input().lower()\n",
        "        answer1=compare(userInput,about_bill,0.5)\n",
        "        answer2=compare(userInput,account, 0.5)\n",
        "        answer3=compare(userInput,technical_issues,0.5)\n",
        "        answer4=compare(userInput,more_options,0.5)\n",
        "        \n",
        "        if answer1 == True:\n",
        "           bill()\n",
        "        elif answer2 == True:\n",
        "          accountOption()\n",
        "        elif answer3 == True:\n",
        "          technical()\n",
        "        elif answer4 == True:\n",
        "          moreoptions()\n",
        "        else: \n",
        "          print(\"I do not understand your response. Please rephrase\")\n",
        "\n",
        "        \n",
        "\n",
        "# 10\n",
        "def existing_or_new():\n",
        "      directions = [\"Yes\",'No']\n",
        "      print(\"Are you an existing customer?\")\n",
        "      userInput = \"\"\n",
        "      answer1=''\n",
        "      answer2=''\n",
        "      \n",
        "      while (answer1 or answer2)!=True:\n",
        "        print(\"Options: yes/no\")\n",
        "        userInput = input().lower()\n",
        "        answer1=compare(userInput,existing_customer,0.5)\n",
        "        answer2=compare(userInput,new_customer,0.5)\n",
        "        #print(answer1 , answer2)\n",
        "        if answer1 == True:\n",
        "          exist_customerOptions()\n",
        "        elif answer2 == True:\n",
        "          new_customerOptions()\n",
        "        \n",
        "        else: \n",
        "          print(\"I do not understand your response. Please rephrase\")\n",
        "\n",
        "#---------------------------------------------------------------------------------------\n",
        "\n",
        "if __name__ == \"__main__\":\n",
        "    while True:\n",
        "        print(\"Welcome to the Three Telecom Company!\")\n",
        "        print(\"Thank you for contacting us and we are pleased to help you.\")\n",
        "        print(\"I will ask some questions to be able to help you better.\")\n",
        "        print(\"Let's start with your name: \")\n",
        "        name = input()\n",
        "        print(\"Welcome, \" +name+ \".\")\n",
        "        existing_or_new()\n",
        "        break\n"
      ]
    },
    {
      "cell_type": "code",
      "execution_count": null,
      "metadata": {
        "id": "_Hj9px0Ym4ax",
        "colab": {
          "base_uri": "https://localhost:8080/"
        },
        "outputId": "99895a98-78a0-4bdc-fef6-a4efbb995fcf"
      },
      "outputs": [
        {
          "output_type": "execute_result",
          "data": {
            "text/plain": [
              "array([[ True]])"
            ]
          },
          "metadata": {},
          "execution_count": 28
        }
      ],
      "source": [
        "test='I am a customer'\n",
        "ans=compare(test, existing_customer, 0.5)\n",
        "ans"
      ]
    },
    {
      "cell_type": "code",
      "execution_count": null,
      "metadata": {
        "id": "TM-hl5LRW9J7",
        "colab": {
          "base_uri": "https://localhost:8080/"
        },
        "outputId": "d945e35a-bddc-4572-8cbc-55d74f55fe6d"
      },
      "outputs": [
        {
          "output_type": "execute_result",
          "data": {
            "text/plain": [
              "array([[False]])"
            ]
          },
          "metadata": {},
          "execution_count": 29
        }
      ],
      "source": [
        "False==ans"
      ]
    },
    {
      "cell_type": "code",
      "execution_count": null,
      "metadata": {
        "id": "AA4pSNWQcwUf",
        "colab": {
          "base_uri": "https://localhost:8080/"
        },
        "outputId": "95225023-2704-49c9-9bc6-e14057b1d87c"
      },
      "outputs": [
        {
          "output_type": "stream",
          "name": "stdout",
          "text": [
            "hey\n"
          ]
        }
      ],
      "source": [
        "if ans==True:\n",
        "  print('hey')"
      ]
    },
    {
      "cell_type": "code",
      "execution_count": null,
      "metadata": {
        "id": "t34cbovBd6tw"
      },
      "outputs": [],
      "source": [
        "# def response():\n",
        "#   print('hey')\n",
        "#   a='ok good'\n",
        "#   exit()\n",
        "#   return a\n",
        "# def sorry():\n",
        "#   b='sorry'\n",
        "#   return b\n",
        "# while True:\n",
        "#   print('Hello, How are you ?')\n",
        "#   userInput=input()\n",
        "#   if userInput=='fine':\n",
        "#     response()\n",
        "\n",
        "#   else:\n",
        "#     sorry()\n",
        "#   break\n",
        "  "
      ]
    },
    {
      "cell_type": "code",
      "execution_count": null,
      "metadata": {
        "id": "Xp7fquwf1YL-"
      },
      "outputs": [],
      "source": []
    },
    {
      "cell_type": "code",
      "execution_count": null,
      "metadata": {
        "id": "FCjRec0LnCwu"
      },
      "outputs": [],
      "source": []
    }
  ],
  "metadata": {
    "colab": {
      "provenance": []
    },
    "kernelspec": {
      "display_name": "Python 3",
      "name": "python3"
    },
    "language_info": {
      "name": "python"
    }
  },
  "nbformat": 4,
  "nbformat_minor": 0
}